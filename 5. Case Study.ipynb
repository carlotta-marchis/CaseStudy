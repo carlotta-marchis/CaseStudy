{
 "cells": [
  {
   "cell_type": "markdown",
   "metadata": {},
   "source": [
    "# Case Study "
   ]
  },
  {
   "cell_type": "markdown",
   "metadata": {},
   "source": [
    "We will create a program that simulates a game to climb the Empire State Building.\n",
    "\n",
    "You roll a dice 100 times:\n",
    "\n",
    "- with 1 or 2 you go one step down;\n",
    "- with 2, 3 or 4 you go one step up;\n",
    "- with 6 you go up by the amount you get by rolling the dice again;\n",
    "- can't go below step 0;\n",
    "- 0.1% chance of falling down the stairs.\n",
    "\n",
    "Bet you'll go 60 steps high.\n",
    "\n",
    "What is the chance you will win the bet?"
   ]
  },
  {
   "cell_type": "markdown",
   "metadata": {},
   "source": [
    "## Random Numbers "
   ]
  },
  {
   "cell_type": "markdown",
   "metadata": {},
   "source": []
  }
 ],
 "metadata": {
  "kernelspec": {
   "display_name": "Python 3",
   "language": "python",
   "name": "python3"
  },
  "language_info": {
   "codemirror_mode": {
    "name": "ipython",
    "version": 3
   },
   "file_extension": ".py",
   "mimetype": "text/x-python",
   "name": "python",
   "nbconvert_exporter": "python",
   "pygments_lexer": "ipython3",
   "version": "3.7.3"
  }
 },
 "nbformat": 4,
 "nbformat_minor": 2
}
